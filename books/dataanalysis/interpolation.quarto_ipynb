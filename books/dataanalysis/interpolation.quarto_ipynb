{
  "cells": [
    {
      "cell_type": "markdown",
      "metadata": {},
      "source": [
        "# Interpolation – Lücken schließen\n"
      ],
      "id": "af51d6f2"
    },
    {
      "cell_type": "code",
      "metadata": {},
      "source": [
        "#| echo: false\n",
        "import numpy as np\n",
        "import matplotlib.pyplot as plt\n",
        "import scipy"
      ],
      "id": "c5abffa0",
      "execution_count": null,
      "outputs": []
    },
    {
      "cell_type": "markdown",
      "metadata": {},
      "source": [
        "Was tun, wenn Werte fehlen? In vielen Datensätzen gibt es Lücken – zum Beispiel, \n",
        "weil Messungen nur an bestimmten Punkten vorgenommen wurden. Interpolation ist \n",
        "eine Methode, mit der wir Zwischenwerte schätzen können, also Werte innerhalb \n",
        "eines bekannten Wertebereichs.\n",
        "\n",
        "Im Gegensatz dazu versucht Extrapolation, Werte außerhalb des bekannten Bereichs \n",
        "vorherzusagen – was in der Regel mit größerer Unsicherheit verbunden ist.\n",
        "\n",
        "Bei der Interpolation wird eine Modellfunktion gesucht, welche die Messdaten \n",
        "exakt abbildet.\n",
        "\n",
        "::: {.callout-note collapse=\"true\"}\n",
        "## Theorie - Modellierung\n",
        "Die Modellierung von Daten hat das Ziel eine Menge von Daten durch einen funktionalen Zusammenhang abzubilden. Beispielhaft können Daten aus Experimenten oder Simulationen stark verrauscht und so für eine Weiterverarbeitung nicht geeignet sein. Eine mittelnde Funktion kann den Datensatz stark vereinfachen. Oder es existieren nur wenige Datenpunkte und die Zwischenstellen müssen durch eine Funktion bestimmt werden.   \n",
        "\n",
        "Generell kann die Modellierung von Daten auf folgendes Problem verallgemeinert werden:\n",
        "1. Gegeben sind $n$ Messpunktpaare $(x_i, y_i)$ mit $x_i, y_i \\in \\mathbb{R}$\n",
        "2. Gesucht ist eine Modellfunktion $y(x)$, welche die Messpunktpaare approximiert\n",
        "\n",
        "Ein möglicher Ansatz ist die Darstellung der Modellfunktion als Summe von $m$ Basisfunktionen $\\phi_i(x)$ mit den Koeffizienten $\\beta_i$. \n",
        "\n",
        "$$  y(x) = \\sum_{i=1}^{m}\\beta_i \\cdot \\phi_i(x) = \\beta_1\\cdot \\phi_1(x) + \\cdots + \\beta_m\\cdot \\phi_m(x) $$\n",
        "\n",
        "Die Koeffizienten $\\beta_i$ müssen dabei so bestimmt werden, dass $y(x)$ so gut wie möglich – oder gar exakt – die Messpunkte approximieren. \n",
        "\n",
        "Als Abstandmaß zwischen einer Modellfunktion und den Messpunkten kann die [L2-Norm](https://de.wikipedia.org/wiki/Folgenraum#lp) verwendet werden. Diese ist definiert als\n",
        "\n",
        "$$  || y(x) - (x_i, y_i) ||_2 = \\sum_{i=1}^n \\left(y(x_i) - y_i\\right)^2 \\quad .$$\n",
        "\n",
        "Eine solche Norm gibt ein Maß für die Qualität einer Approximation: je kleiner der Abstand, desto besser die Qualität. Dies ermöglicht das Finden optimaler Koeffizienten und  wird beispielsweise in der Methode der kleinsten Quadrate genutzt, in der ein Satz an Koeffizienten gesucht wird, der die L2-Norm minimiert.\n",
        ":::\n",
        "\n",
        "## Übersicht\n",
        "\n",
        "In vielen praktischen Anwendungen werden Polynome als Basisfunktionen der Modellfunktion angenommen. Vorteile von Polynomen:\n",
        "\n",
        "* Polynome sind leicht zu differenzieren und integrieren\n",
        "* Annäherung von beliebigen Funktionen durch Polynome möglich, siehe [Taylor-Entwicklung](https://de.wikipedia.org/wiki/Taylorreihe)\n",
        "* Auswertung ist sehr einfach und dadurch schnell, d.h. sie benötigt nur wenige schnelle arithmetische Operationen (Addition und Multiplikation)\n",
        "\n",
        "Ein Beispiel für eine Basis aus Polynomen:\n",
        "\n",
        "$$ \\phi_1(x)=1,\\quad \\phi_2(x)=x,\\quad \\phi_3(x)=x^2,\\quad \\cdots,\\quad \\phi_m =x^{m-1} $$\n",
        "\n",
        "## Polynome\n",
        "\n",
        "Polynome $P(x)$ sind Funktionen in Form einer Summe von Potenzfunktionen mit natürlichzahligen Exponenten ($ x^i, i \\in \\mathbb{N}$) mit den entsprechenden Koeffzienten $a_i$:\n",
        "\n",
        "$$ P(x) = \\sum_{i=0}^n a_i x^i = a_n x^n + a_{n-1} x^{n-1} + \\cdots + a_2 x^2 + a_1 x + a_0, \\quad i, n \\in \\mathbb{N}, a_i \\in \\mathbb{R} $$ \n",
        "\n",
        "* Als Grad eines Polynoms wird der Term mit dem höchsten Exponenten und nichtverschwindenden Koeffizienten (der sogenannte Leitkoeffizient) bezeichnet.\n",
        "* Ein Polynom mit Grad $n$ hat $n$, teilweise [komplexe](https://de.wikipedia.org/wiki/Komplexe_Zahl), Nullstellen.\n",
        "\n",
        "In Python, d.h. im numpy-Modul, werden Polynome durch ihre Koeffizienten representiert. Im Allgemeinen wird ein Polynom mit dem Grad $n$ durch folgendes Array dargestellt\n",
        "\n",
        "```python\n",
        "[an, ..., a2, a1, a0]\n",
        "```\n",
        "\n",
        "So z.B. für $P(x) = x^3 + 5x^2 - 2x + 3$:\n"
      ],
      "id": "e12a6f04"
    },
    {
      "cell_type": "code",
      "metadata": {},
      "source": [
        "P = np.array([1, 5, -2, 3])\n",
        "print(P)"
      ],
      "id": "ee9c7333",
      "execution_count": null,
      "outputs": []
    },
    {
      "cell_type": "markdown",
      "metadata": {},
      "source": [
        "Die Auswertung des Polynoms an einem Punkt oder einem Array erfolgt mit der `np.polyval`-Funktion.\n"
      ],
      "id": "ab2eb94e"
    },
    {
      "cell_type": "code",
      "metadata": {},
      "source": [
        "x = 1\n",
        "y = np.polyval(P, x)\n",
        "print(f\"P(x={x}) = {y}\")"
      ],
      "id": "46c09e7d",
      "execution_count": null,
      "outputs": []
    },
    {
      "cell_type": "code",
      "metadata": {},
      "source": [
        "x = np.array([-1, 0, 1])\n",
        "y = np.polyval(P, x)\n",
        "print(f\"P(x={x}) = {y}\")"
      ],
      "id": "f493568a",
      "execution_count": null,
      "outputs": []
    },
    {
      "cell_type": "markdown",
      "metadata": {},
      "source": [
        "Für die graphische Darstellung im Bereich $x \\in [-6, 2]$ können die bekannten numpy und matplotlib Funktionen verwendet werden.\n"
      ],
      "id": "e2929456"
    },
    {
      "cell_type": "code",
      "metadata": {},
      "source": [
        "x = np.linspace(-6, 2, 50)\n",
        "y = np.polyval(P, x)\n",
        "\n",
        "plt.plot(x, y)\n",
        "plt.xlabel('x')\n",
        "plt.ylabel('y(x)')\n",
        "plt.grid()"
      ],
      "id": "2c47e2fe",
      "execution_count": null,
      "outputs": []
    },
    {
      "cell_type": "markdown",
      "metadata": {},
      "source": [
        "Um die Nullstellen eines Polynoms zu finden, kann die numpy-Funktion `np.roots` genutzt werden. Für das obige Polynom können folgende Nullstellen bestimmt werden. \n"
      ],
      "id": "33726a59"
    },
    {
      "cell_type": "code",
      "metadata": {},
      "source": [
        "nstellen = np.roots(P)\n",
        "\n",
        "# direkte Ausgabe des Arrays\n",
        "print(\"Nullstellen: \")\n",
        "print(nstellen)"
      ],
      "id": "cc7fe3ca",
      "execution_count": null,
      "outputs": []
    },
    {
      "cell_type": "code",
      "metadata": {},
      "source": [
        "print(\"Nullstellen: \")\n",
        "# schönere Ausgabe des Arrays\n",
        "for i, z in enumerate(nstellen):\n",
        "    if z.imag == 0:\n",
        "        print(f\"  x_{i+1} = {z.real:.2}\")\n",
        "    else:\n",
        "        print(f\"  x_{i+1} = {z.real:.2} {z.imag:+.2}i\")"
      ],
      "id": "ed536b2e",
      "execution_count": null,
      "outputs": []
    },
    {
      "cell_type": "markdown",
      "metadata": {},
      "source": [
        "In diesem Beispiel sind zwei der Nullstellen komplex. Eine komplexe Zahl $z$ wird in Python als Summe des Realteils ($ Re$) und Imaginärteils ($ Im$). Letzterer wird durch ein nachfolgendes `j`, die imaginäre Einheit, gekennzeichnet.\n",
        "\n",
        "$$ z = Re(z) + Im(z)j$$\n",
        "\n",
        "Die Nullstellen können auch zur alternativen Darstellung des Polynoms verwendet werden. Sind $x_i$ die $n$ Nullstellen, so ist das Polynom $n$-ten Grades durch folgendes Produkt beschrieben:\n",
        "\n",
        "$$ P(x) = \\prod_{i=1}^n \\left(x - x_i\\right) = (x - x_1)\\cdot (x - x_2) \\cdot \\cdots \\cdot (x - x_n) $$ \n",
        "\n",
        "Seien beispielsweise 1 und 2 die Nullstellen eines Polynoms, so lautet dieses:\n",
        "\n",
        "$$  P(x) = (x - 1)(x - 2) = x^2 - 3x +2 $$\n",
        "\n",
        "Die numpy-Funktion `np.poly` kann aus den Nullstellen die Polynomkoeffizienten bestimmen. Anhand des obigen Beispiels lautet der Funktionsaufruf: \n"
      ],
      "id": "4efe705d"
    },
    {
      "cell_type": "code",
      "metadata": {},
      "source": [
        "nstellen = [1, 2]\n",
        "koeffizienten = np.poly(nstellen)\n",
        "\n",
        "print(\"Nullstellen:\", nstellen)\n",
        "print(\"Koeffizienten:\", koeffizienten)"
      ],
      "id": "853ba0e4",
      "execution_count": null,
      "outputs": []
    },
    {
      "cell_type": "markdown",
      "metadata": {},
      "source": [
        "Das Modul numpy stellt viele praktische Funktionen zum Umgang mit Polynomen zur Verfügung. So existieren Funktionen um Polynome auszuwerten, die Nullstellen zu finden, zu addieren, zu multiplizieren, abzuleiten oder zu integrieren. Eine Übersicht ist in der [numpy-Dokumentation](https://numpy.org/doc/stable/reference/routines.polynomials.poly1d.html) gegeben.\n",
        "\n",
        "## Interpolation\n",
        "\n",
        "Interpolation ist eine Methode, um Datenpunkte zwischen gegebenen Messpunkten zu konstruieren. Dazu wird eine Funktion gesucht, die alle Messpunkte exakt abbildet, was gleichbedeutend damit ist, dass die L2-Norm zwischen Funktion und Punkten Null ist.\n",
        "\n",
        "Zwei Punkte können z.B. mit einer Geraden interpoliert werden. D.h. für zwei Messpunktpaare $(x_1, y_1)$ und $(x_2, y_2)$ mit $x_1\\neq x_2$ existiert ein Koeffizientensatz, sodass die L2-Norm zwischen den Messpunkten und der Modellfunktion\n",
        "\n",
        "$$y(x) = \\beta_1 x + \\beta_0$$\n",
        "\n",
        "verschwindet.\n"
      ],
      "id": "dd3d3b35"
    },
    {
      "cell_type": "code",
      "metadata": {
        "tags": [
          "hide_input"
        ]
      },
      "source": [
        "# Beispieldaten aus y(x) = -x + 2\n",
        "\n",
        "N = 50\n",
        "dx = 0.25\n",
        "\n",
        "def fnk(x):\n",
        "    return -x + 2\n",
        "\n",
        "x = np.array([1, 2])\n",
        "y = fnk(x)\n",
        "\n",
        "plt.scatter(x, y, color='C1', label=\"Messpunkte\", zorder=3)\n",
        "\n",
        "x_modell = np.linspace(np.min(x), np.max(x), N)\n",
        "plt.plot(x_modell, fnk(x_modell), color='C0', label=\"Modellfunktion\")\n",
        "\n",
        "x_linie = np.linspace(np.min(x)-dx, np.max(x)+dx, N)\n",
        "plt.plot(x_linie, fnk(x_linie), '--', alpha=0.3, color='C0')\n",
        "\n",
        "plt.xlabel(\"x\")\n",
        "plt.ylabel(\"y\")\n",
        "plt.legend()\n",
        "plt.grid()"
      ],
      "id": "37a1b9a3",
      "execution_count": null,
      "outputs": []
    },
    {
      "cell_type": "markdown",
      "metadata": {},
      "source": [
        "Für drei Messpunkte muss ein Polynom zweiten Grades verwendet werden, um die Punkte exakt zu erfassen.\n",
        "\n",
        "$$y(x) = \\beta_2 x^2 + \\beta_1 x + \\beta_0$$\n"
      ],
      "id": "753a82c1"
    },
    {
      "cell_type": "code",
      "metadata": {
        "tags": [
          "hide_input"
        ]
      },
      "source": [
        "# Beispieldaten aus y(x) = 3x^2 -4x - 1\n",
        "\n",
        "N = 50\n",
        "dx = 0.25\n",
        "\n",
        "def fnk(x):\n",
        "    return 3*x**2-4*x - 1\n",
        "\n",
        "x = np.array([-1, 2, 3])\n",
        "y = fnk(x)\n",
        "\n",
        "plt.scatter(x, y, color='C1', label=\"Messpunkte\", zorder=3)\n",
        "\n",
        "x_modell = np.linspace(np.min(x), np.max(x), N)\n",
        "plt.plot(x_modell, fnk(x_modell), color='C0', label=\"Modellfunktion\")\n",
        "\n",
        "x_linie = np.linspace(np.min(x)-dx, np.max(x)+dx, N)\n",
        "plt.plot(x_linie, fnk(x_linie), '--', alpha=0.3, color='C0')\n",
        "\n",
        "plt.xlabel(\"x\")\n",
        "plt.ylabel(\"y\")\n",
        "plt.legend()\n",
        "plt.grid()"
      ],
      "id": "785563e9",
      "execution_count": null,
      "outputs": []
    },
    {
      "cell_type": "markdown",
      "metadata": {},
      "source": [
        "Dies kann verallgemeinert werden: $n$ Messpunkte können exakt mit einem Polynom ($ n-1$)-ten Grades abgebildet werden. Die Suche nach den passenden Koeffizienten ist das Lagrangesche Interpolationsproblem. Für das gesuchte Polynom $P(x)$ gilt:\n",
        "\n",
        "$$  P(x_i) = y_i \\quad i \\in 1, \\dots, n $$\n",
        "\n",
        "Die Existenz und Eindeutigkeit eines solchen Polynoms kann gezeigt werden. Das gesuchte Polynom lautet: \n",
        "\n",
        "$$  P(x) = \\sum_{i=1}^n y_i I_i(x) $$\n",
        "$$  \\text{mit}\\quad I_i(x) = \\prod_{j=1, i\\neq j}^n \\frac{x-x_j}{x_i - x_j} $$\n",
        "\n",
        "Alternativ kann auch ein Gleichungssystem, welches durch die Polynomialbasis $\\phi_i(x)$ gegeben ist, gelöst werden. Für die $n$ Punktepaare gilt jeweils:\n",
        "\n",
        "$$  y(x_i) = \\sum_{i=1}^{m}\\beta_i \\cdot \\phi_i(x_i) = \\beta_1\\cdot \\phi_1(x_i) + \\cdots + \\beta_m\\cdot \\phi_m(x_i) = y_i $$\n",
        "\n",
        "Das allgemeine Geleichungssystem lautet\n",
        "\n",
        "$$  \\left( \\begin{matrix} \\phi_1(x_1) & \\phi_2(x_1) & \\cdots & \\phi_m(x_1) \\\\ \n",
        "             \\phi_1(x_2) & \\phi_2(x_2) & \\cdots & \\phi_m(x_2) \\\\ \n",
        "             \\vdots &\\vdots & \\ddots & \\vdots \\\\ \n",
        "             \\phi_1(x_n) & \\phi_2(x_n) & \\cdots & \\phi_m(x_n) \\\\ \n",
        "             \\end{matrix}\\right). \n",
        "\\left(  \\begin{matrix} \\beta_1 \\\\  \n",
        "      \\beta_2 \\\\   \\vdots \\\\   \\beta_m \\\\ \n",
        "      \\end{matrix} \\right) \n",
        "= \\left(  \\begin{matrix} y_1 \\\\  y_2 \\\\   \\vdots \\\\   y_n \\\\ \\end{matrix} \\right) $$\n",
        "\n",
        "und mit der Polynomialbasis\n",
        "\n",
        "$$ \\underbrace{\\left( \\begin{matrix} 1 & x_1 & \\cdots & x_1^{n-1} \\\\ 1 & x_2 & \\cdots & x_2^{n-1} \\\\ \\vdots &\\vdots & \\ddots & \\vdots \\\\ 1 & x_n & \\cdots & x_n^{n-1} \\\\ \\end{matrix}\\right)}_{V}. \\left(  \\begin{matrix} \\beta_1 \\\\  \\beta_2 \\\\   \\vdots \\\\   \\beta_m \\\\ \\end{matrix} \\right) = \\left(  \\begin{matrix} y_1 \\\\  y_2 \\\\   \\vdots \\\\   y_n \\\\ \\end{matrix} \\right)$$\n",
        "\n",
        "Die Matrix $V$ heisst [Vandermonde-Matrix](https://de.wikipedia.org/wiki/Vandermonde-Matrix) und kann exakt gelöst werden, für $m=n$ und wenn für alle $i, j, i\\neq j$ gilt $x_i \\neq x_j$. \n",
        "\n",
        "In Python kann das Interpolationsproblem mit der [Funktion `np.polyfit`](https://numpy.org/doc/stable/reference/generated/numpy.polyfit.html) gelöst werden. Das folgende Beispiel demonstriert deren Anwendung.\n",
        "\n",
        "Die Messtellen folgen in dem Beispiel der Funktion $f(x)$, welche nur zur Generierung der Datenpunkte verwendet wird. \n",
        "\n",
        "$$ f(x) = \\frac{1}{2} + \\frac{1}{1+x^2}$$\n",
        "\n",
        "Zunächst werden die Messpunkte generiert.\n"
      ],
      "id": "d9be35f5"
    },
    {
      "cell_type": "code",
      "metadata": {},
      "source": [
        "def fnk(x):\n",
        "    return 0.5 + 1/(1+x**2)"
      ],
      "id": "c15ac0c4",
      "execution_count": null,
      "outputs": []
    },
    {
      "cell_type": "code",
      "metadata": {},
      "source": [
        "xmin = -5\n",
        "xmax =  5\n",
        "x = np.linspace(xmin, xmax, 100)\n",
        "y = fnk(x)"
      ],
      "id": "327ab3ea",
      "execution_count": null,
      "outputs": []
    },
    {
      "cell_type": "code",
      "metadata": {},
      "source": [
        "n = 5\n",
        "xi = np.linspace(xmin, xmax, n)\n",
        "yi = fnk(xi)"
      ],
      "id": "b40c0398",
      "execution_count": null,
      "outputs": []
    },
    {
      "cell_type": "markdown",
      "metadata": {},
      "source": [
        "Nun folgt die Interpolation für 5 und 15 Messpunkte.\n"
      ],
      "id": "5db7eb07"
    },
    {
      "cell_type": "code",
      "metadata": {},
      "source": [
        "P = np.polyfit(xi, yi, n-1)\n",
        "print(\"Interpolationskoeffizienten:\")\n",
        "print(P)"
      ],
      "id": "551e898e",
      "execution_count": null,
      "outputs": []
    },
    {
      "cell_type": "code",
      "metadata": {},
      "source": [
        "plt.plot(x, y, color='C0', alpha=0.5, label='generierende Funktion')\n",
        "plt.plot(x, np.polyval(P, x), color='C2', label='Interpolation')\n",
        "plt.scatter(xi, yi, color='C1', label='Messpunkte', zorder=3)\n",
        "plt.legend()\n",
        "plt.grid()"
      ],
      "id": "796517d2",
      "execution_count": null,
      "outputs": []
    },
    {
      "cell_type": "code",
      "metadata": {},
      "source": [
        "n = 15\n",
        "xi = np.linspace(xmin, xmax, n)\n",
        "yi = fnk(xi)\n",
        "\n",
        "P = np.polyfit(xi, yi, n-1)\n",
        "\n",
        "plt.plot(x, y, color='C0', alpha=0.5, label='generierende Funktion')\n",
        "plt.plot(x, np.polyval(P, x), color='C2', label='Interpolation')\n",
        "plt.scatter(xi, yi, color='C1', label='Messpunkte', zorder=3)\n",
        "plt.legend()\n",
        "plt.grid()"
      ],
      "id": "e9483528",
      "execution_count": null,
      "outputs": []
    },
    {
      "cell_type": "markdown",
      "metadata": {},
      "source": [
        "Die Interpolation erfüllt immer die geforderte Bedingung $y(x_i) = y_i$. Jedoch führen Polynome mit einem hohen Grad oft zu nicht sinnvollen Ergebnissen. Es entstehen starke Überschwinger, welche mit zunehmendem Grad immer stärker werden. Eine alternative Interpolationsmethode stellen Splines dar, welche mehrere, niedrige Polynome zur Interpolation vieler Punkte verwenden.   \n"
      ],
      "id": "8e66d3d4"
    }
  ],
  "metadata": {
    "kernelspec": {
      "name": "python3",
      "language": "python",
      "display_name": "Python 3 (ipykernel)",
      "path": "/Users/mfehr/Documents/BCD/Vorlesung_Ingenieurinformatik/.venv/share/jupyter/kernels/python3"
    }
  },
  "nbformat": 4,
  "nbformat_minor": 5
}