{
  "cells": [
    {
      "cell_type": "markdown",
      "metadata": {},
      "source": [
        "# Splines\n"
      ],
      "id": "f6330ff2"
    },
    {
      "cell_type": "code",
      "metadata": {},
      "source": [
        "#| echo: false\n",
        "import numpy as np\n",
        "import matplotlib.pyplot as plt"
      ],
      "id": "4bdb437a",
      "execution_count": null,
      "outputs": []
    },
    {
      "cell_type": "markdown",
      "metadata": {},
      "source": [
        "Polynominterpolation versucht eine globale Modellfunktion zu finden. Jedoch eignen sich Polynome mit hohen Graden im Allgemeinen nicht für eine Interpolation vieler Punkte. Einen anderen Ansatz verfolgen Splines. Diese sind Polynomzüge, welche die einzelnen Messpunkte verbinden und deren Grad klein – typischerweise zwischen eins und drei – ist. \n",
        "\n",
        "## Definition\n",
        "\n",
        "Für $n+1$ Messpunkte $(x_i, y_i)$ kann eine Splinefunktion $s_k$, hier ein Polynomspline, wie folgt definiert werden.\n",
        "\n",
        "* Vorausgesetzt ist, dass die Messpunkte sortiert sind, d.h. $x_0 < x_1 < \\cdots < x_n$\n",
        "* für jedes $i = 0\\dots n − 1$ ist $s_k$ ein Polynom vom Grad $k$ auf dem Intervall $\\left[x_i , x_{i+1}\\right]$\n",
        "* $s_k$ ist auf $\\left[x_0 , x_n \\right]$ $(k − 1)$-mal stetig differenzierbar\n",
        "\n",
        "Beispiele:\n",
        "* $k = 1$: Polygonzug\n",
        "* $k = 3$: kubische Polynomsplines (B-Splines)\n",
        "\n",
        "## Kubische Splines\n",
        "\n",
        "Die in der Praxis häufig eingesetzten kubischen Polynomsplines $s_3$ ($ k= 3$) haben folgende Eigenschaften:\n",
        "* $s_3|\\left[x_i,x_{i+1}\\right] = \\beta_0 +\\beta_1 x + \\beta_2 x^2 + \\beta_3 x^3$\n",
        "* $s_3$ ist zweimal stetig differenzierbar auf $\\left[x_0,x_n\\right]$, also insbesondere an den\n",
        "Stützpunkten $x_i$ der Messpunkte \n",
        "\n",
        "Die Koeffizienten $\\beta_i$ werden wie folgt bestimmt\n",
        "* aus den $n + 1$ Messpunkten ergeben sich $n$ Intervalle, d.h. mit jeweils vier Koeffizienten sind es insgesamt $4n$ Koeffizienten\n",
        "* Exakte Darstellung der Messpunkte ($ n + 1$ Gleichungen), d.h.: $s_3(x_i) = y_i$\n",
        "* Glattheitsbedingungen an den inneren Messpunkten ($ i=1\\dots n-1$), mit jeweils ($ n − 1$ Gleichungen):\n",
        "$$ s_3'(x_i)_- =s_3'(x_i)_+$$\n",
        "$$ s_3''(x_i)_- =s_3''(x_i)_+$$\n",
        "$$ s_3'''(x_i)_- =s_3'''(x_i)_+$$\n",
        "\n",
        "* Damit sind es $4n − 2$ Gleichungen für $4n$ Koeffizienten\n",
        "\n",
        "Um die beiden fehlenden Gleichungen zu finden bzw. zu bestimmen werden Randbedingungen oder Abschlussbedingungen benötigt.\n",
        "Die gängigsten Bedingungen sind:\n",
        "* natürliche Splines: die Krümung am Rand verschwindet, d.h.:\n",
        "$$ s_3''(x_0) = s_3''(x_n) = 0 $$\n",
        "* periodische Splines: die Steigung und Krümung ist an beiden Rändern gleich\n",
        "$$ s_3'(x_0) = s_3'(x_n)$$ \n",
        "$$ s_3''(x_0) = s_3''(x_n)$$\n",
        "* Hermite Splines: die Steigungen am Rand werden explizit vorgegeben (hier durch $u$ und $v$)\n",
        "$$ s_3'(x_0) = u $$\n",
        "$$ s_3'(x_n) = v $$\n",
        "\n",
        "## Anwendung\n",
        "\n",
        "Im Folgenden werden zwei Beispiele, $s_1$ und $s_3$, für die Erstellung von Splines mit Python vorgestellt. \n"
      ],
      "id": "ab6d0f72"
    },
    {
      "cell_type": "code",
      "metadata": {},
      "source": [
        "# Erzeugung von Messpunkten\n",
        "n = 7\n",
        "xi = np.linspace(0, np.pi, n)\n",
        "yi = np.sin(xi)"
      ],
      "id": "f6624bac",
      "execution_count": null,
      "outputs": []
    },
    {
      "cell_type": "markdown",
      "metadata": {},
      "source": [
        "Für die $s_1$ Splines, kann die Funktion `np.interp` verwendet werden. Sie führt eine lineare Interpolation zwischen gegebenen Wertepaaren durch.\n"
      ],
      "id": "b5cbb523"
    },
    {
      "cell_type": "code",
      "metadata": {},
      "source": [
        "# Wertebereich für die Visualisierung der Interpolation\n",
        "x = np.linspace(0, np.pi, n*6)\n",
        "y = np.sin(x)"
      ],
      "id": "8785359e",
      "execution_count": null,
      "outputs": []
    },
    {
      "cell_type": "code",
      "metadata": {},
      "source": [
        "# Interpolation\n",
        "y_s1 = np.interp(x, xi, yi)"
      ],
      "id": "0199cc3b",
      "execution_count": null,
      "outputs": []
    },
    {
      "cell_type": "code",
      "metadata": {},
      "source": [
        "plt.plot(x,y, alpha=0.3, color='C2', lw=5, \n",
        "         label='Generierende Funktion')\n",
        "plt.plot(x, y_s1, color='C0', label='Interpolation')\n",
        "plt.scatter(x, y_s1, s=3, zorder=3, color='C0')\n",
        "plt.scatter(xi, yi, color='C1', label='Messpunkte')\n",
        "\n",
        "plt.xlabel('x')\n",
        "plt.ylabel('y')\n",
        "plt.legend();"
      ],
      "id": "f2e398c5",
      "execution_count": null,
      "outputs": []
    },
    {
      "cell_type": "markdown",
      "metadata": {},
      "source": [
        "Die $s_3$ Splines können mit Funktionen aus dem scipy-Modul berechnet werden. Dazu werden zunächst die Koeffizienten bestimmt (`scipy.interpolate.splrep`) und diese ermöglichen die gewünschte Auswertung, welche mit der Funktion `scipy.interpolate.splev` vorgenommen werden kann. \n"
      ],
      "id": "fd3d4eed"
    },
    {
      "cell_type": "code",
      "metadata": {},
      "source": [
        "import scipy.interpolate as si"
      ],
      "id": "b586d170",
      "execution_count": null,
      "outputs": []
    },
    {
      "cell_type": "code",
      "metadata": {},
      "source": [
        "s3 = si.splrep(xi, yi)\n",
        "y_s3 = si.splev(x, s3)"
      ],
      "id": "8bbb4a44",
      "execution_count": null,
      "outputs": []
    },
    {
      "cell_type": "code",
      "metadata": {},
      "source": [
        "plt.plot(x,y, alpha=0.3, color='C2', lw=5, \n",
        "         label='Generierende Funktion')\n",
        "plt.plot(x, y_s3, color='C0', label='Interpolation')\n",
        "plt.scatter(x, y_s3, s=3, zorder=3, color='C0')\n",
        "plt.scatter(xi, yi, color='C1', label='Messpunkte')\n",
        "\n",
        "plt.xlabel('x')\n",
        "plt.ylabel('y')\n",
        "plt.legend();"
      ],
      "id": "50aab345",
      "execution_count": null,
      "outputs": []
    }
  ],
  "metadata": {
    "kernelspec": {
      "name": "python3",
      "language": "python",
      "display_name": "Python 3 (ipykernel)",
      "path": "/Users/mfehr/Documents/BCD/Vorlesung_Ingenieurinformatik/.venv/share/jupyter/kernels/python3"
    }
  },
  "nbformat": 4,
  "nbformat_minor": 5
}