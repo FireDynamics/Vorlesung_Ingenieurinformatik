{
  "cells": [
    {
      "cell_type": "markdown",
      "metadata": {},
      "source": [
        "# Fitting\n"
      ],
      "id": "380d74b4"
    },
    {
      "cell_type": "code",
      "metadata": {},
      "source": [
        "#| echo: false\n",
        "import numpy as np\n",
        "import matplotlib.pyplot as plt\n",
        "import scipy"
      ],
      "id": "aca26643",
      "execution_count": null,
      "outputs": []
    },
    {
      "cell_type": "markdown",
      "metadata": {},
      "source": [
        "Beim Fitting wird eine Modellfunktion gesucht, weche die Messdaten nicht unbedingt exakt abbildet. Wird ein Polynom verwendet, so hat es eine Grad, welcher deutlich kleiner ist, als die Anzahl der Messpunkte. Lineare Regression ist ein Beispiel für ein Fitting durch ein Polynom mit dem Grad Eins.\n",
        "\n",
        "Zum Fitten durch ein Polynom kann die Funktion `np.polyfit` verwendet werden, genauso wie bei der Polynominterpolation. Diesmal jedoch mit einem kleineren Polynomgrad.\n",
        "\n",
        "Im folgenden Beispiel werden zunächst Modelldaten generiert und dann mit entsprechenden Polynomen gefittet.\n"
      ],
      "id": "f669bd7e"
    },
    {
      "cell_type": "code",
      "metadata": {},
      "source": [
        "xmin = 0\n",
        "xmax = 5\n",
        "x = np.linspace(xmin, xmax, 100)\n",
        "\n",
        "ni = 25\n",
        "\n",
        "# x-Werte mit leichtem Rauschen\n",
        "xi = np.linspace(xmin, xmax, ni) + 0.2*(2 * np.random.random(ni) -1)\n",
        "\n",
        "# y(x) = 2x+0.5 mit leichtem Rauschen\n",
        "yi = 2*xi + 0.5 + 2*(2 * np.random.random(ni) -1)\n",
        "\n",
        "plt.scatter(xi, yi, color='C1')\n",
        "plt.grid()"
      ],
      "id": "5c004660",
      "execution_count": null,
      "outputs": []
    },
    {
      "cell_type": "code",
      "metadata": {},
      "source": [
        "P1 = np.polyfit(xi, yi, 1)\n",
        "\n",
        "plt.scatter(xi, yi, color='C1', zorder=3, label='Messpunkte')\n",
        "plt.plot(x, np.polyval(P1, x), color='C0', label=\"Modellfunktion\")\n",
        "plt.grid()\n",
        "plt.legend()"
      ],
      "id": "6f502f3b",
      "execution_count": null,
      "outputs": []
    },
    {
      "cell_type": "code",
      "metadata": {},
      "source": [
        "# x-Werte mit leichtem Rauschen\n",
        "xi = np.linspace(xmin, xmax, ni) + 0.2*(2 * np.random.random(ni) -1)\n",
        "\n",
        "# y(x) = 2x+0.5 mit leichtem Rauschen\n",
        "yi = (xi - 2)**2 -2*xi + 2.5 + 2*(2 * np.random.random(ni) -1)"
      ],
      "id": "957defd8",
      "execution_count": null,
      "outputs": []
    },
    {
      "cell_type": "code",
      "metadata": {},
      "source": [
        "P1 = np.polyfit(xi, yi, 1)\n",
        "P2 = np.polyfit(xi, yi, 2)\n",
        "\n",
        "plt.scatter(xi, yi, color='C1', zorder=3, label='Messpunkte')\n",
        "plt.plot(x, np.polyval(P1, x), color='C0', label=\"Modellfunktion, Grad 1\")\n",
        "plt.plot(x, np.polyval(P2, x), color='C2', label=\"Modellfunktion, Grad 2\")\n",
        "plt.grid()\n",
        "plt.legend()\n",
        "plt.show()"
      ],
      "id": "93cd6b77",
      "execution_count": null,
      "outputs": []
    }
  ],
  "metadata": {
    "kernelspec": {
      "name": "python3",
      "language": "python",
      "display_name": "Python 3 (ipykernel)",
      "path": "/Users/mfehr/Documents/BCD/Vorlesung_Ingenieurinformatik/.venv/share/jupyter/kernels/python3"
    }
  },
  "nbformat": 4,
  "nbformat_minor": 5
}